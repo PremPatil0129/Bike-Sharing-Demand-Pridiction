{
  "nbformat": 4,
  "nbformat_minor": 0,
  "metadata": {
    "colab": {
      "provenance": [],
      "authorship_tag": "ABX9TyN1R30zKA2nLl9bkgUQuG9p",
      "include_colab_link": true
    },
    "kernelspec": {
      "name": "python3",
      "display_name": "Python 3"
    },
    "language_info": {
      "name": "python"
    }
  },
  "cells": [
    {
      "cell_type": "markdown",
      "metadata": {
        "id": "view-in-github",
        "colab_type": "text"
      },
      "source": [
        "<a href=\"https://colab.research.google.com/github/PremPatil0129/Bike-Sharing-Demand-Pridiction/blob/main/Bike_Sharing_Demand_Pridiction_Project.ipynb\" target=\"_parent\"><img src=\"https://colab.research.google.com/assets/colab-badge.svg\" alt=\"Open In Colab\"/></a>"
      ]
    },
    {
      "cell_type": "markdown",
      "source": [
        "##Project Title : Bike Sharing Demand Prediction Using Regression."
      ],
      "metadata": {
        "id": "ZQIp3G-C9KFT"
      }
    },
    {
      "cell_type": "markdown",
      "source": [],
      "metadata": {
        "id": "lSEWEMjN9pAi"
      }
    }
  ]
}